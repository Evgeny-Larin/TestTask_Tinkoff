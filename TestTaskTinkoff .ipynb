{
 "cells": [
  {
   "cell_type": "markdown",
   "id": "634b6136",
   "metadata": {},
   "source": [
    "### Тинькофф Образование. Курс Анализ данных в индустрии 2023"
   ]
  },
  {
   "cell_type": "markdown",
   "id": "c201b108",
   "metadata": {},
   "source": [
    "Для выполнения задания потребуется самому сгенерировать данные с помощью модуля random (все пункты выполняются с помощью нее).\n",
    "\n",
    "Что необходимо, для создания будущей таблицы:\n",
    "\n",
    "0) Для генерации данных в random необходимо установить seed = \"АДВИ_2023\", всего длинна каждого списка N = 1000;\n",
    "\n",
    "1) index колонка: создать список из N последовательных целых элементов от 1 до 1000 включительно, далее, с помощью random, перемешать его -> будем использовать как ;\n",
    "\n",
    "2) groups колонка: создать список из N элементов, состоящий из значений из списка [\"группа_1\", \"группа_2\", \"группа_3\", \"группа_4\", \"группа_5\"] (равномерное распределение);\n",
    "\n",
    "3) uniform колонка: создать список из N элементов, состоящий из целых значение из равномерного распределения [50, 100];\n",
    "\n",
    "4) gauss_1, gauss_2, gauss_3 колонки: Создать 3 списка из N элементов каждый, заполненные значениями из нормальных распределений с параметрами:  \n",
    "μ = 0, σ^2 = 1 -> третья колонка gauss_1;  \n",
    "μ = 0, σ^2 = 144 -> четвертая колонка gauss_2;  \n",
    "μ = 50, σ^2 = 81 ->  пятая колонка gauss_3;  \n",
    "\n",
    "5) Создать pandas DataFrame, где (1) будет индексом, (2)-(4) колонки, названия колонок [\"groups\", \"uniform\", \"gauss_1\", \"gauss_2\", \"gauss_3\"] соответственно, не забывая проверить, что типы колонок должны соответствовать заявленным типам данных;\n",
    "\n",
    "6) Для колонок gauss_1 и gauss_2 заменить значения на None:\n",
    "\n",
    "Для gauss_1_col, если индекс у значение делится на 121 без остатка;  \n",
    "Для gauss_2_col, если дробная часть больше 0.95;  \n",
    "\n",
    "7) Теперь, для пропущенных значений gauss_1 и gauss_2:\n",
    "\n",
    "Для gauss_2_col None заменить на среднее по колонке;  \n",
    "Удалить строчки из таблицы, где gauss_1_col == None."
   ]
  },
  {
   "cell_type": "code",
   "execution_count": 1,
   "id": "6be89e4c",
   "metadata": {},
   "outputs": [],
   "source": [
    "import random\n",
    "import pandas as pd"
   ]
  },
  {
   "cell_type": "code",
   "execution_count": 2,
   "id": "df2916a9",
   "metadata": {},
   "outputs": [],
   "source": [
    "#устанавливаем seed\n",
    "random.seed(\"АДВИ_2023\")\n",
    "#создаем список с индексами\n",
    "index1 = [i for i in range(1, 1001)]\n",
    "#перемешиваем индексы\n",
    "random.shuffle(index1)\n",
    "#значения для столбца groups\n",
    "groups1 = [\"группа_1\", \"группа_2\", \"группа_3\", \"группа_4\", \"группа_5\"]\n",
    "#список groups через равномерное распределения\n",
    "groups1 = random.choices(groups1, k=1000)\n",
    "#список из 1000 элементов, состоящий из целых значение из равномерного распределения [50, 100] \n",
    "uniform1 = [random.randint(50, 100) for _ in range(1000)]\n",
    "#списки, заполненные значениями из нормальных распределений\n",
    "gauss_1 = [random.normalvariate(mu = 0, sigma = 1) for i in range(0, 1000)]\n",
    "gauss_2 = [random.normalvariate(mu = 0, sigma = 12) for i in range(0, 1000)]\n",
    "gauss_3 = [random.normalvariate(mu = 50, sigma = 9) for i in range(0, 1000)]"
   ]
  },
  {
   "cell_type": "code",
   "execution_count": 3,
   "id": "0812ad8d",
   "metadata": {},
   "outputs": [],
   "source": [
    "#создаем df\n",
    "df = pd.DataFrame({\"groups\":groups1,\n",
    "                   \"uniform\":uniform1,\n",
    "                   \"gauss_1\":gauss_1,\n",
    "                   \"gauss_2\":gauss_2,\n",
    "                   \"gauss_3\":gauss_3}, index = index1)"
   ]
  },
  {
   "cell_type": "code",
   "execution_count": 4,
   "id": "e2fbcf55",
   "metadata": {},
   "outputs": [],
   "source": [
    "#значение делится на 121 без остатка\n",
    "df.loc[(df.index%121 == 0), 'gauss_1'] = None\n",
    "#дробная часть больше 0.95\n",
    "df.loc[(abs(df.gauss_2)%1 > 0.95), 'gauss_2'] = None"
   ]
  },
  {
   "cell_type": "code",
   "execution_count": 5,
   "id": "df824f4f",
   "metadata": {},
   "outputs": [],
   "source": [
    "#оставить строки, где строки gauss_1 не пустые\n",
    "df = df[~(df.gauss_1.isna())]\n",
    "#заполнить пустые средним по колонке\n",
    "df['gauss_2'] = df['gauss_2'].fillna(df.gauss_2.mean())"
   ]
  },
  {
   "cell_type": "markdown",
   "id": "03dd07d6",
   "metadata": {},
   "source": [
    "### 1. Сколько всего получилось записей в таблице после выполнения всех пунктов из условия?"
   ]
  },
  {
   "cell_type": "code",
   "execution_count": 6,
   "id": "3e5a248a",
   "metadata": {},
   "outputs": [
    {
     "data": {
      "text/plain": [
       "992"
      ]
     },
     "execution_count": 6,
     "metadata": {},
     "output_type": "execute_result"
    }
   ],
   "source": [
    "df.shape[0]"
   ]
  },
  {
   "cell_type": "markdown",
   "id": "d1c7bbf3",
   "metadata": {},
   "source": [
    "### 2. Для колонки gauss_2 посчитать среднее и среднеквадратическое отклонение"
   ]
  },
  {
   "cell_type": "code",
   "execution_count": 7,
   "id": "68bfb8d3",
   "metadata": {},
   "outputs": [
    {
     "data": {
      "text/plain": [
       "0.24198967797234985"
      ]
     },
     "execution_count": 7,
     "metadata": {},
     "output_type": "execute_result"
    }
   ],
   "source": [
    "#среднее\n",
    "df.gauss_2.mean()"
   ]
  },
  {
   "cell_type": "code",
   "execution_count": 8,
   "id": "d69f02c3",
   "metadata": {},
   "outputs": [
    {
     "data": {
      "text/plain": [
       "12.008659263877034"
      ]
     },
     "execution_count": 8,
     "metadata": {},
     "output_type": "execute_result"
    }
   ],
   "source": [
    "#среднеквадрат\n",
    "df.gauss_2.std( )"
   ]
  },
  {
   "cell_type": "markdown",
   "id": "d2a6df39",
   "metadata": {},
   "source": [
    "### 3. Какая группа встречается чаще всего и сколько раз?"
   ]
  },
  {
   "cell_type": "code",
   "execution_count": 9,
   "id": "a1c6d0ad",
   "metadata": {},
   "outputs": [
    {
     "data": {
      "text/plain": [
       "группа_4    222\n",
       "группа_1    215\n",
       "группа_2    194\n",
       "группа_3    184\n",
       "группа_5    177\n",
       "Name: groups, dtype: int64"
      ]
     },
     "execution_count": 9,
     "metadata": {},
     "output_type": "execute_result"
    }
   ],
   "source": [
    "df.groups.value_counts()"
   ]
  },
  {
   "cell_type": "markdown",
   "id": "272130b5",
   "metadata": {},
   "source": [
    "### 4. Для группа_5 вывести самый \"ранний\" (наименьший) индекс"
   ]
  },
  {
   "cell_type": "code",
   "execution_count": 10,
   "id": "e512d2af",
   "metadata": {},
   "outputs": [
    {
     "data": {
      "text/html": [
       "<div>\n",
       "<style scoped>\n",
       "    .dataframe tbody tr th:only-of-type {\n",
       "        vertical-align: middle;\n",
       "    }\n",
       "\n",
       "    .dataframe tbody tr th {\n",
       "        vertical-align: top;\n",
       "    }\n",
       "\n",
       "    .dataframe thead th {\n",
       "        text-align: right;\n",
       "    }\n",
       "</style>\n",
       "<table border=\"1\" class=\"dataframe\">\n",
       "  <thead>\n",
       "    <tr style=\"text-align: right;\">\n",
       "      <th></th>\n",
       "      <th>index</th>\n",
       "      <th>groups</th>\n",
       "      <th>uniform</th>\n",
       "      <th>gauss_1</th>\n",
       "      <th>gauss_2</th>\n",
       "      <th>gauss_3</th>\n",
       "    </tr>\n",
       "  </thead>\n",
       "  <tbody>\n",
       "    <tr>\n",
       "      <th>174</th>\n",
       "      <td>6</td>\n",
       "      <td>группа_5</td>\n",
       "      <td>64</td>\n",
       "      <td>-0.846485</td>\n",
       "      <td>16.232845</td>\n",
       "      <td>54.076235</td>\n",
       "    </tr>\n",
       "  </tbody>\n",
       "</table>\n",
       "</div>"
      ],
      "text/plain": [
       "     index    groups  uniform   gauss_1    gauss_2    gauss_3\n",
       "174      6  группа_5       64 -0.846485  16.232845  54.076235"
      ]
     },
     "execution_count": 10,
     "metadata": {},
     "output_type": "execute_result"
    }
   ],
   "source": [
    "df[df.groups == 'группа_5'].reset_index().sort_values('index').head(1)"
   ]
  },
  {
   "cell_type": "markdown",
   "id": "f97fddd9",
   "metadata": {},
   "source": [
    "### 5. Сколько записей из колонки uniform имеют значение не ниже значения 90% перцентиля?"
   ]
  },
  {
   "cell_type": "code",
   "execution_count": 11,
   "id": "f2bcfd69",
   "metadata": {},
   "outputs": [
    {
     "data": {
      "text/plain": [
       "groups     118\n",
       "uniform    118\n",
       "gauss_1    118\n",
       "gauss_2    118\n",
       "gauss_3    118\n",
       "dtype: int64"
      ]
     },
     "execution_count": 11,
     "metadata": {},
     "output_type": "execute_result"
    }
   ],
   "source": [
    "df[df.uniform >= df.uniform.quantile(0.9)].count()"
   ]
  },
  {
   "cell_type": "markdown",
   "id": "099c1c68",
   "metadata": {},
   "source": [
    "### 6. У какой группы наибольшее значение медианы для gauss_3?"
   ]
  },
  {
   "cell_type": "code",
   "execution_count": 12,
   "id": "76883c05",
   "metadata": {},
   "outputs": [
    {
     "data": {
      "text/html": [
       "<div>\n",
       "<style scoped>\n",
       "    .dataframe tbody tr th:only-of-type {\n",
       "        vertical-align: middle;\n",
       "    }\n",
       "\n",
       "    .dataframe tbody tr th {\n",
       "        vertical-align: top;\n",
       "    }\n",
       "\n",
       "    .dataframe thead th {\n",
       "        text-align: right;\n",
       "    }\n",
       "</style>\n",
       "<table border=\"1\" class=\"dataframe\">\n",
       "  <thead>\n",
       "    <tr style=\"text-align: right;\">\n",
       "      <th></th>\n",
       "      <th>gauss_3</th>\n",
       "    </tr>\n",
       "    <tr>\n",
       "      <th>groups</th>\n",
       "      <th></th>\n",
       "    </tr>\n",
       "  </thead>\n",
       "  <tbody>\n",
       "    <tr>\n",
       "      <th>группа_4</th>\n",
       "      <td>50.747451</td>\n",
       "    </tr>\n",
       "  </tbody>\n",
       "</table>\n",
       "</div>"
      ],
      "text/plain": [
       "            gauss_3\n",
       "groups             \n",
       "группа_4  50.747451"
      ]
     },
     "execution_count": 12,
     "metadata": {},
     "output_type": "execute_result"
    }
   ],
   "source": [
    "df.groupby('groups')\\\n",
    "  .agg({'gauss_3':'median'})\\\n",
    "  .sort_values('gauss_3', ascending = False)\\\n",
    "  .head(1)"
   ]
  },
  {
   "cell_type": "markdown",
   "id": "12ee4fbf",
   "metadata": {},
   "source": [
    "### 7. У какой группы наибольшее минимальное значение gauss_1?\n",
    "\n",
    "Ответ дать виде группы и значением в gauss_2 (округлить до сотых)"
   ]
  },
  {
   "cell_type": "code",
   "execution_count": 13,
   "id": "66b52891",
   "metadata": {},
   "outputs": [
    {
     "data": {
      "text/html": [
       "<div>\n",
       "<style scoped>\n",
       "    .dataframe tbody tr th:only-of-type {\n",
       "        vertical-align: middle;\n",
       "    }\n",
       "\n",
       "    .dataframe tbody tr th {\n",
       "        vertical-align: top;\n",
       "    }\n",
       "\n",
       "    .dataframe thead th {\n",
       "        text-align: right;\n",
       "    }\n",
       "</style>\n",
       "<table border=\"1\" class=\"dataframe\">\n",
       "  <thead>\n",
       "    <tr style=\"text-align: right;\">\n",
       "      <th></th>\n",
       "      <th>gauss_1</th>\n",
       "    </tr>\n",
       "    <tr>\n",
       "      <th>groups</th>\n",
       "      <th></th>\n",
       "    </tr>\n",
       "  </thead>\n",
       "  <tbody>\n",
       "    <tr>\n",
       "      <th>группа_2</th>\n",
       "      <td>-2.186968</td>\n",
       "    </tr>\n",
       "  </tbody>\n",
       "</table>\n",
       "</div>"
      ],
      "text/plain": [
       "           gauss_1\n",
       "groups            \n",
       "группа_2 -2.186968"
      ]
     },
     "execution_count": 13,
     "metadata": {},
     "output_type": "execute_result"
    }
   ],
   "source": [
    "df.groupby('groups')\\\n",
    "  .agg({'gauss_1':'min'})\\\n",
    "  .sort_values('gauss_1', ascending = False)\\\n",
    "  .head(1)"
   ]
  },
  {
   "cell_type": "code",
   "execution_count": 14,
   "id": "455649ec",
   "metadata": {},
   "outputs": [
    {
     "data": {
      "text/html": [
       "<div>\n",
       "<style scoped>\n",
       "    .dataframe tbody tr th:only-of-type {\n",
       "        vertical-align: middle;\n",
       "    }\n",
       "\n",
       "    .dataframe tbody tr th {\n",
       "        vertical-align: top;\n",
       "    }\n",
       "\n",
       "    .dataframe thead th {\n",
       "        text-align: right;\n",
       "    }\n",
       "</style>\n",
       "<table border=\"1\" class=\"dataframe\">\n",
       "  <thead>\n",
       "    <tr style=\"text-align: right;\">\n",
       "      <th></th>\n",
       "      <th>gauss_2</th>\n",
       "    </tr>\n",
       "    <tr>\n",
       "      <th>groups</th>\n",
       "      <th></th>\n",
       "    </tr>\n",
       "  </thead>\n",
       "  <tbody>\n",
       "    <tr>\n",
       "      <th>группа_2</th>\n",
       "      <td>-30.642554</td>\n",
       "    </tr>\n",
       "  </tbody>\n",
       "</table>\n",
       "</div>"
      ],
      "text/plain": [
       "            gauss_2\n",
       "groups             \n",
       "группа_2 -30.642554"
      ]
     },
     "execution_count": 14,
     "metadata": {},
     "output_type": "execute_result"
    }
   ],
   "source": [
    "df.groupby('groups')\\\n",
    "  .agg({'gauss_2':'min'})\\\n",
    "  .sort_values('gauss_2', ascending = False)\\\n",
    "  .query('groups == \"группа_2\"')"
   ]
  },
  {
   "cell_type": "markdown",
   "id": "2c94c61c",
   "metadata": {},
   "source": [
    "### 8. Создать новую колонку gauss где значения будут получаться из (gauss_1 + gauss_2) / gauss_3\n",
    "**Чему будет равен 70% перцентиль (округлить до сотых)?**"
   ]
  },
  {
   "cell_type": "code",
   "execution_count": 15,
   "id": "a0951b38",
   "metadata": {},
   "outputs": [],
   "source": [
    "df['gauss'] = (df.gauss_1 + df.gauss_2) / df.gauss_3"
   ]
  },
  {
   "cell_type": "code",
   "execution_count": 16,
   "id": "aaf16c1d",
   "metadata": {},
   "outputs": [
    {
     "data": {
      "text/plain": [
       "0.13"
      ]
     },
     "execution_count": 16,
     "metadata": {},
     "output_type": "execute_result"
    }
   ],
   "source": [
    "round(df.gauss.quantile(0.7),2)"
   ]
  },
  {
   "cell_type": "code",
   "execution_count": null,
   "id": "d70c7533",
   "metadata": {},
   "outputs": [],
   "source": []
  }
 ],
 "metadata": {
  "kernelspec": {
   "display_name": "Python 3 (ipykernel)",
   "language": "python",
   "name": "python3"
  },
  "language_info": {
   "codemirror_mode": {
    "name": "ipython",
    "version": 3
   },
   "file_extension": ".py",
   "mimetype": "text/x-python",
   "name": "python",
   "nbconvert_exporter": "python",
   "pygments_lexer": "ipython3",
   "version": "3.9.13"
  }
 },
 "nbformat": 4,
 "nbformat_minor": 5
}
